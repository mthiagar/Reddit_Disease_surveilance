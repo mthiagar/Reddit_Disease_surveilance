{
 "cells": [
  {
   "cell_type": "markdown",
   "metadata": {},
   "source": [
    "<b>Disclaimer:</b>\n",
    "This is a tutorial where we demonstrate how to use the Reddit API to find mental health related posts. This is just a demonstration of how to extract data from Reddit, and not intended as a serious or well charactized product or reasearch. Do not draw conclusions from this. The analysis here is very rudimentary. This is mainly meant to be a tutorial on how to obtain the data, rather than how to draw any conclusions from it. \n",
    "<hr>\n",
    "That out of the way, here's what we'll be doing in this learning element:\n",
    "<ul>\n",
    "    <li>Set up a developer app on reddit</li>\n",
    "    <li>Pull a list of posts containing mental health related keywords from the UWaterloo subreddit</li>\n",
    "    <li>Plot the number of posts containing these keywords over time</li>\n",
    " </ul>"
   ]
  },
  {
   "cell_type": "markdown",
   "metadata": {},
   "source": [
    "<h2>1. Set Up Development App</h2>\n",
    "<p>The first thing we need to do is get set up a developer app. We are going to use a python package called PRAW to make it more straightforward to use the API. API is a an accronym for applicaiton programming interface, which allows you to create a application that interacts directly with reddit's data. </p>\n",
    "<p>To register your app, start by going to <a href=\"https://www.reddit.com\"> reddit</a>. Make account if you don't have one yet, then go <a href=\"https://www.reddit.com/prefs/apps\"> here </a>. and click create an app at the bottom. Give your app a name, a description, choose script and use localhost:888 as your redirect link. This is your own computer, since we are not hosting it anywhere. </p>\n",
    "<p>You should then get a 14 character personal use script, and a 27 character secret key. </p> See this <a href=\"\"> page </a> if you don't know what I'm talking about."
   ]
  },
  {
   "cell_type": "markdown",
   "metadata": {},
   "source": [
    "We will be using the following three python packages: praw, pandas, and datetime. Make sure to install these. On the commandline this can be done using the following: "
   ]
  },
  {
   "cell_type": "code",
   "execution_count": 8,
   "metadata": {},
   "outputs": [
    {
     "ename": "SyntaxError",
     "evalue": "invalid syntax (<ipython-input-8-18eaac3950c8>, line 1)",
     "output_type": "error",
     "traceback": [
      "\u001b[0;36m  File \u001b[0;32m\"<ipython-input-8-18eaac3950c8>\"\u001b[0;36m, line \u001b[0;32m1\u001b[0m\n\u001b[0;31m    pip install praw\u001b[0m\n\u001b[0m              ^\u001b[0m\n\u001b[0;31mSyntaxError\u001b[0m\u001b[0;31m:\u001b[0m invalid syntax\n"
     ]
    }
   ],
   "source": [
    "pip install praw\n",
    "pip install pandas as pd\n",
    "pip install datetime as dt"
   ]
  },
  {
   "cell_type": "markdown",
   "metadata": {},
   "source": [
    "In python, import the packages you will be using. "
   ]
  },
  {
   "cell_type": "code",
   "execution_count": 2,
   "metadata": {},
   "outputs": [],
   "source": [
    "import praw\n",
    "import pandas as pd\n",
    "import datetime as dt\n",
    "%matplotlib inline"
   ]
  },
  {
   "cell_type": "markdown",
   "metadata": {},
   "source": [
    "Now you'll need to get the app started in python. Run the following filling in the values denoted by <> with your own."
   ]
  },
  {
   "cell_type": "code",
   "execution_count": 3,
   "metadata": {},
   "outputs": [],
   "source": [
    "reddit = praw.Reddit(client_id='<14 character personal use script>', \\\n",
    "                     client_secret='<27 character secret key>', \\\n",
    "                     user_agent='<name of your app>', \\\n",
    "                     username='<Your reddit login username>', \\\n",
    "                     password='<Your reddit password>')"
   ]
  },
  {
   "cell_type": "markdown",
   "metadata": {},
   "source": [
    "In the next few lines of code, we'll look in the uwaterloo subreddit, and find the 100 <i>(default)</i> most recent posts containing the word depressed in the title, or description of the post. Normally, you'll want to use more key words, and a also include impartional matches. There are ways to do this, but we won't get into that. "
   ]
  },
  {
   "cell_type": "code",
   "execution_count": 5,
   "metadata": {},
   "outputs": [],
   "source": [
    "subreddit = reddit.subreddit('uwaterloo')"
   ]
  },
  {
   "cell_type": "code",
   "execution_count": 6,
   "metadata": {},
   "outputs": [],
   "source": [
    "depression_subreddit = subreddit.search(\"depressed\", sort=\"new\")"
   ]
  },
  {
   "cell_type": "markdown",
   "metadata": {},
   "source": [
    "If we want to store the information we just stored, we can store it in a python dictionary. We first make a dictionary, and define the fields we want to store. Then we use a loop to go through the posts and store them in the dictionary. "
   ]
  },
  {
   "cell_type": "code",
   "execution_count": 7,
   "metadata": {},
   "outputs": [],
   "source": [
    "depression_posts_dict = { \"title\":[], \n",
    "                \"score\":[], \n",
    "                \"id\":[], \n",
    "                \"url\":[], \n",
    "                \"comms_num\": [], \n",
    "                \"created\": [],\n",
    "                \"body\":[]}"
   ]
  },
  {
   "cell_type": "code",
   "execution_count": 8,
   "metadata": {},
   "outputs": [],
   "source": [
    "for submission in depression_subreddit:\n",
    "    depression_posts_dict[\"title\"].append(submission.title)\n",
    "    depression_posts_dict[\"score\"].append(submission.score)\n",
    "    depression_posts_dict[\"id\"].append(submission.id)\n",
    "    depression_posts_dict[\"url\"].append(submission.url)\n",
    "    depression_posts_dict[\"comms_num\"].append(submission.num_comments)\n",
    "    depression_posts_dict[\"created\"].append(submission.created)\n",
    "    depression_posts_dict[\"body\"].append(submission.selftext)"
   ]
  },
  {
   "cell_type": "markdown",
   "metadata": {},
   "source": [
    "We then store the dictionary as a pandas dataframe. Pandas is used commonly in data science, work work and manipulate data. We use it here for that exact reason. Then we preview the dataframe with the head() method. "
   ]
  },
  {
   "cell_type": "code",
   "execution_count": 9,
   "metadata": {},
   "outputs": [],
   "source": [
    "topics_data = pd.DataFrame(depression_posts_dict)"
   ]
  },
  {
   "cell_type": "code",
   "execution_count": 10,
   "metadata": {},
   "outputs": [
    {
     "data": {
      "text/html": [
       "<div>\n",
       "<style scoped>\n",
       "    .dataframe tbody tr th:only-of-type {\n",
       "        vertical-align: middle;\n",
       "    }\n",
       "\n",
       "    .dataframe tbody tr th {\n",
       "        vertical-align: top;\n",
       "    }\n",
       "\n",
       "    .dataframe thead th {\n",
       "        text-align: right;\n",
       "    }\n",
       "</style>\n",
       "<table border=\"1\" class=\"dataframe\">\n",
       "  <thead>\n",
       "    <tr style=\"text-align: right;\">\n",
       "      <th></th>\n",
       "      <th>title</th>\n",
       "      <th>score</th>\n",
       "      <th>id</th>\n",
       "      <th>url</th>\n",
       "      <th>comms_num</th>\n",
       "      <th>created</th>\n",
       "      <th>body</th>\n",
       "    </tr>\n",
       "  </thead>\n",
       "  <tbody>\n",
       "    <tr>\n",
       "      <th>0</th>\n",
       "      <td>Bell Let's Talk raises awareness of mental hea...</td>\n",
       "      <td>67</td>\n",
       "      <td>aliktj</td>\n",
       "      <td>https://www.reddit.com/r/uwaterloo/comments/al...</td>\n",
       "      <td>16</td>\n",
       "      <td>1.548917e+09</td>\n",
       "      <td>This post is more aimed towards fixing depress...</td>\n",
       "    </tr>\n",
       "    <tr>\n",
       "      <th>1</th>\n",
       "      <td>Feeling alone When others are around</td>\n",
       "      <td>9</td>\n",
       "      <td>ajz486</td>\n",
       "      <td>https://www.reddit.com/r/uwaterloo/comments/aj...</td>\n",
       "      <td>3</td>\n",
       "      <td>1.548519e+09</td>\n",
       "      <td>I can't get rid of this empty feeling in my he...</td>\n",
       "    </tr>\n",
       "    <tr>\n",
       "      <th>2</th>\n",
       "      <td>Anyone in London, ON for co-op and wants to ha...</td>\n",
       "      <td>6</td>\n",
       "      <td>ajuzdu</td>\n",
       "      <td>https://www.reddit.com/r/uwaterloo/comments/aj...</td>\n",
       "      <td>4</td>\n",
       "      <td>1.548487e+09</td>\n",
       "      <td>I’m depressed and lonely af thanks</td>\n",
       "    </tr>\n",
       "    <tr>\n",
       "      <th>3</th>\n",
       "      <td>ww megathread?</td>\n",
       "      <td>43</td>\n",
       "      <td>aiskxl</td>\n",
       "      <td>https://www.reddit.com/r/uwaterloo/comments/ai...</td>\n",
       "      <td>25</td>\n",
       "      <td>1.548226e+09</td>\n",
       "      <td>when's the megathread comin im looking to get ...</td>\n",
       "    </tr>\n",
       "    <tr>\n",
       "      <th>4</th>\n",
       "      <td>Coop depression hitting me like a truck</td>\n",
       "      <td>20</td>\n",
       "      <td>agtikq</td>\n",
       "      <td>https://www.reddit.com/r/uwaterloo/comments/ag...</td>\n",
       "      <td>6</td>\n",
       "      <td>1.547724e+09</td>\n",
       "      <td>Finally got a coop job I thought would be grea...</td>\n",
       "    </tr>\n",
       "  </tbody>\n",
       "</table>\n",
       "</div>"
      ],
      "text/plain": [
       "                                               title  score      id  \\\n",
       "0  Bell Let's Talk raises awareness of mental hea...     67  aliktj   \n",
       "1               Feeling alone When others are around      9  ajz486   \n",
       "2  Anyone in London, ON for co-op and wants to ha...      6  ajuzdu   \n",
       "3                                     ww megathread?     43  aiskxl   \n",
       "4            Coop depression hitting me like a truck     20  agtikq   \n",
       "\n",
       "                                                 url  comms_num       created  \\\n",
       "0  https://www.reddit.com/r/uwaterloo/comments/al...         16  1.548917e+09   \n",
       "1  https://www.reddit.com/r/uwaterloo/comments/aj...          3  1.548519e+09   \n",
       "2  https://www.reddit.com/r/uwaterloo/comments/aj...          4  1.548487e+09   \n",
       "3  https://www.reddit.com/r/uwaterloo/comments/ai...         25  1.548226e+09   \n",
       "4  https://www.reddit.com/r/uwaterloo/comments/ag...          6  1.547724e+09   \n",
       "\n",
       "                                                body  \n",
       "0  This post is more aimed towards fixing depress...  \n",
       "1  I can't get rid of this empty feeling in my he...  \n",
       "2                I’m depressed and lonely af thanks   \n",
       "3  when's the megathread comin im looking to get ...  \n",
       "4  Finally got a coop job I thought would be grea...  "
      ]
     },
     "execution_count": 10,
     "metadata": {},
     "output_type": "execute_result"
    }
   ],
   "source": [
    "topics_data.head(5)"
   ]
  },
  {
   "cell_type": "markdown",
   "metadata": {},
   "source": [
    "We see that the date the post was created is in a non-human readable format. Here we define a function to help us convert it into something more easy on the eyes. "
   ]
  },
  {
   "cell_type": "code",
   "execution_count": 11,
   "metadata": {},
   "outputs": [],
   "source": [
    "def get_date(created):\n",
    "    return dt.datetime.fromtimestamp(created)"
   ]
  },
  {
   "cell_type": "code",
   "execution_count": 12,
   "metadata": {},
   "outputs": [],
   "source": [
    "topics_data.created = topics_data[\"created\"].apply(get_date)"
   ]
  },
  {
   "cell_type": "code",
   "execution_count": 13,
   "metadata": {},
   "outputs": [],
   "source": [
    "topics_data.sort_values(by=['created'], inplace=True)"
   ]
  },
  {
   "cell_type": "code",
   "execution_count": 14,
   "metadata": {},
   "outputs": [
    {
     "data": {
      "text/html": [
       "<div>\n",
       "<style scoped>\n",
       "    .dataframe tbody tr th:only-of-type {\n",
       "        vertical-align: middle;\n",
       "    }\n",
       "\n",
       "    .dataframe tbody tr th {\n",
       "        vertical-align: top;\n",
       "    }\n",
       "\n",
       "    .dataframe thead th {\n",
       "        text-align: right;\n",
       "    }\n",
       "</style>\n",
       "<table border=\"1\" class=\"dataframe\">\n",
       "  <thead>\n",
       "    <tr style=\"text-align: right;\">\n",
       "      <th></th>\n",
       "      <th>title</th>\n",
       "      <th>score</th>\n",
       "      <th>id</th>\n",
       "      <th>url</th>\n",
       "      <th>comms_num</th>\n",
       "      <th>created</th>\n",
       "      <th>body</th>\n",
       "    </tr>\n",
       "  </thead>\n",
       "  <tbody>\n",
       "    <tr>\n",
       "      <th>99</th>\n",
       "      <td>So i got antidepressants buut</td>\n",
       "      <td>11</td>\n",
       "      <td>8is160</td>\n",
       "      <td>https://www.reddit.com/r/uwaterloo/comments/8i...</td>\n",
       "      <td>25</td>\n",
       "      <td>2018-05-12 03:06:22</td>\n",
       "      <td>I’m scared to take them.. what if they make me...</td>\n",
       "    </tr>\n",
       "    <tr>\n",
       "      <th>98</th>\n",
       "      <td>Is Waterloo Fun?</td>\n",
       "      <td>0</td>\n",
       "      <td>8j7zq9</td>\n",
       "      <td>https://www.reddit.com/r/uwaterloo/comments/8j...</td>\n",
       "      <td>16</td>\n",
       "      <td>2018-05-14 03:46:04</td>\n",
       "      <td>I recently got accepted into AFM and it looks ...</td>\n",
       "    </tr>\n",
       "    <tr>\n",
       "      <th>97</th>\n",
       "      <td>How to stay positive?</td>\n",
       "      <td>19</td>\n",
       "      <td>8lo6r4</td>\n",
       "      <td>https://www.reddit.com/r/uwaterloo/comments/8l...</td>\n",
       "      <td>10</td>\n",
       "      <td>2018-05-24 04:01:06</td>\n",
       "      <td>Been feeling really down as of late. Constantl...</td>\n",
       "    </tr>\n",
       "    <tr>\n",
       "      <th>96</th>\n",
       "      <td>I would like to go to a sauna once</td>\n",
       "      <td>6</td>\n",
       "      <td>8ly05w</td>\n",
       "      <td>https://www.reddit.com/r/uwaterloo/comments/8l...</td>\n",
       "      <td>18</td>\n",
       "      <td>2018-05-25 05:33:49</td>\n",
       "      <td>I am depressed, maybe it would help.\\n\\nOr doe...</td>\n",
       "    </tr>\n",
       "    <tr>\n",
       "      <th>95</th>\n",
       "      <td>I just realized I’ve been depressed since I was 4</td>\n",
       "      <td>11</td>\n",
       "      <td>8m6svr</td>\n",
       "      <td>https://www.reddit.com/r/uwaterloo/comments/8m...</td>\n",
       "      <td>6</td>\n",
       "      <td>2018-05-26 05:30:27</td>\n",
       "      <td>Literally. I remember feeling the exact same w...</td>\n",
       "    </tr>\n",
       "  </tbody>\n",
       "</table>\n",
       "</div>"
      ],
      "text/plain": [
       "                                                title  score      id  \\\n",
       "99                      So i got antidepressants buut     11  8is160   \n",
       "98                                   Is Waterloo Fun?      0  8j7zq9   \n",
       "97                              How to stay positive?     19  8lo6r4   \n",
       "96                 I would like to go to a sauna once      6  8ly05w   \n",
       "95  I just realized I’ve been depressed since I was 4     11  8m6svr   \n",
       "\n",
       "                                                  url  comms_num  \\\n",
       "99  https://www.reddit.com/r/uwaterloo/comments/8i...         25   \n",
       "98  https://www.reddit.com/r/uwaterloo/comments/8j...         16   \n",
       "97  https://www.reddit.com/r/uwaterloo/comments/8l...         10   \n",
       "96  https://www.reddit.com/r/uwaterloo/comments/8l...         18   \n",
       "95  https://www.reddit.com/r/uwaterloo/comments/8m...          6   \n",
       "\n",
       "               created                                               body  \n",
       "99 2018-05-12 03:06:22  I’m scared to take them.. what if they make me...  \n",
       "98 2018-05-14 03:46:04  I recently got accepted into AFM and it looks ...  \n",
       "97 2018-05-24 04:01:06  Been feeling really down as of late. Constantl...  \n",
       "96 2018-05-25 05:33:49  I am depressed, maybe it would help.\\n\\nOr doe...  \n",
       "95 2018-05-26 05:30:27  Literally. I remember feeling the exact same w...  "
      ]
     },
     "execution_count": 14,
     "metadata": {},
     "output_type": "execute_result"
    }
   ],
   "source": [
    "topics_data.head(5)"
   ]
  },
  {
   "cell_type": "markdown",
   "metadata": {},
   "source": [
    "Now, we make a new data frame to store counts of how many depression posts were made each month. "
   ]
  },
  {
   "cell_type": "code",
   "execution_count": 15,
   "metadata": {},
   "outputs": [],
   "source": [
    "todays_date = dt.datetime.now().date()\n",
    "dates = pd.date_range('2018-04-30', periods=10, freq='M')"
   ]
  },
  {
   "cell_type": "code",
   "execution_count": 16,
   "metadata": {},
   "outputs": [],
   "source": [
    "count_df = pd.DataFrame(columns = ['date',\"counts\"])"
   ]
  },
  {
   "cell_type": "code",
   "execution_count": 17,
   "metadata": {},
   "outputs": [],
   "source": [
    "count_df[\"date\"]=dates\n",
    "count_df[\"counts\"]=0"
   ]
  },
  {
   "cell_type": "markdown",
   "metadata": {},
   "source": [
    "This final step, goes through the posts and checks if the date created is in a particular month, and then adds to the count for that month. "
   ]
  },
  {
   "cell_type": "code",
   "execution_count": 19,
   "metadata": {},
   "outputs": [],
   "source": [
    "for post_date in topics_data.created:\n",
    "    for index in count_df.index:\n",
    "        date= count_df.loc[index,'date']\n",
    "        if str(date)[0:7]==str(post_date)[0:7]:\n",
    "            count_df.loc[index,'counts']+=1"
   ]
  },
  {
   "cell_type": "markdown",
   "metadata": {},
   "source": [
    "Finally, we end up with a count table which we can plot to see if there are any trends in the number of posts containing \"depressed\" over time. "
   ]
  },
  {
   "cell_type": "code",
   "execution_count": 20,
   "metadata": {},
   "outputs": [
    {
     "data": {
      "text/html": [
       "<div>\n",
       "<style scoped>\n",
       "    .dataframe tbody tr th:only-of-type {\n",
       "        vertical-align: middle;\n",
       "    }\n",
       "\n",
       "    .dataframe tbody tr th {\n",
       "        vertical-align: top;\n",
       "    }\n",
       "\n",
       "    .dataframe thead th {\n",
       "        text-align: right;\n",
       "    }\n",
       "</style>\n",
       "<table border=\"1\" class=\"dataframe\">\n",
       "  <thead>\n",
       "    <tr style=\"text-align: right;\">\n",
       "      <th></th>\n",
       "      <th>date</th>\n",
       "      <th>counts</th>\n",
       "    </tr>\n",
       "  </thead>\n",
       "  <tbody>\n",
       "    <tr>\n",
       "      <th>0</th>\n",
       "      <td>2018-04-30</td>\n",
       "      <td>0</td>\n",
       "    </tr>\n",
       "    <tr>\n",
       "      <th>1</th>\n",
       "      <td>2018-05-31</td>\n",
       "      <td>6</td>\n",
       "    </tr>\n",
       "    <tr>\n",
       "      <th>2</th>\n",
       "      <td>2018-06-30</td>\n",
       "      <td>12</td>\n",
       "    </tr>\n",
       "    <tr>\n",
       "      <th>3</th>\n",
       "      <td>2018-07-31</td>\n",
       "      <td>12</td>\n",
       "    </tr>\n",
       "    <tr>\n",
       "      <th>4</th>\n",
       "      <td>2018-08-31</td>\n",
       "      <td>8</td>\n",
       "    </tr>\n",
       "    <tr>\n",
       "      <th>5</th>\n",
       "      <td>2018-09-30</td>\n",
       "      <td>10</td>\n",
       "    </tr>\n",
       "    <tr>\n",
       "      <th>6</th>\n",
       "      <td>2018-10-31</td>\n",
       "      <td>11</td>\n",
       "    </tr>\n",
       "    <tr>\n",
       "      <th>7</th>\n",
       "      <td>2018-11-30</td>\n",
       "      <td>11</td>\n",
       "    </tr>\n",
       "    <tr>\n",
       "      <th>8</th>\n",
       "      <td>2018-12-31</td>\n",
       "      <td>16</td>\n",
       "    </tr>\n",
       "    <tr>\n",
       "      <th>9</th>\n",
       "      <td>2019-01-31</td>\n",
       "      <td>14</td>\n",
       "    </tr>\n",
       "  </tbody>\n",
       "</table>\n",
       "</div>"
      ],
      "text/plain": [
       "        date  counts\n",
       "0 2018-04-30       0\n",
       "1 2018-05-31       6\n",
       "2 2018-06-30      12\n",
       "3 2018-07-31      12\n",
       "4 2018-08-31       8\n",
       "5 2018-09-30      10\n",
       "6 2018-10-31      11\n",
       "7 2018-11-30      11\n",
       "8 2018-12-31      16\n",
       "9 2019-01-31      14"
      ]
     },
     "execution_count": 20,
     "metadata": {},
     "output_type": "execute_result"
    }
   ],
   "source": [
    "count_df"
   ]
  },
  {
   "cell_type": "code",
   "execution_count": 22,
   "metadata": {},
   "outputs": [
    {
     "data": {
      "text/plain": [
       "<matplotlib.axes._subplots.AxesSubplot at 0x7f560f759ef0>"
      ]
     },
     "execution_count": 22,
     "metadata": {},
     "output_type": "execute_result"
    },
    {
     "data": {
      "image/png": "[encoded data removed]",
      "text/plain": [
       "<Figure size 432x288 with 1 Axes>"
      ]
     },
     "metadata": {
      "needs_background": "light"
     },
     "output_type": "display_data"
    }
   ],
   "source": [
    "count_df.plot(kind=\"bar\", x=\"date\", y=\"counts\")"
   ]
  },
  {
   "cell_type": "markdown",
   "metadata": {},
   "source": [
    "That's all for this tutorial. Now, keep in mind, this was just for demonstration purposes of how to pull data from reddit for purpose of disease surveillance, and prep it for analysis. What we did here is very simplistic and, you can't draw any conclusions from it. We need to adust for the growth in users, and total number of posts each month etc. to get a realistic picture of whether depression related posts are on the rise, and if the trend is even significant. We would also, need to have a more stringent criteria for what determines a depression related post (some of those posts just have the word depressed, but don't have much to do with depression). But, what we do show here is, how an API can be used get data for disease surveilance. Analysis is often much trickier and often requires more domain expertise. Hope you enjoyed it!"
   ]
  }
 ],
 "metadata": {
  "kernelspec": {
   "display_name": "twitter_scrap",
   "language": "python",
   "name": "twitter_scrap"
  },
  "language_info": {
   "codemirror_mode": {
    "name": "ipython",
    "version": 3
   },
   "file_extension": ".py",
   "mimetype": "text/x-python",
   "name": "python",
   "nbconvert_exporter": "python",
   "pygments_lexer": "ipython3",
   "version": "3.6.4"
  }
 },
 "nbformat": 4,
 "nbformat_minor": 2
}
